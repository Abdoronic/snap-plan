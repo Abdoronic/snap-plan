{
 "metadata": {
  "language_info": {
   "codemirror_mode": {
    "name": "ipython",
    "version": 3
   },
   "file_extension": ".py",
   "mimetype": "text/x-python",
   "name": "python",
   "nbconvert_exporter": "python",
   "pygments_lexer": "ipython3",
   "version": "3.9.0-final"
  },
  "orig_nbformat": 2,
  "kernelspec": {
   "name": "python3",
   "display_name": "Python 3.9.0 64-bit",
   "metadata": {
    "interpreter": {
     "hash": "aee8b7b246df8f9039afb4144a1f6fd8d2ca17a180786b69acc140d282b71a49"
    }
   }
  }
 },
 "nbformat": 4,
 "nbformat_minor": 2,
 "cells": [
  {
   "cell_type": "code",
   "execution_count": 1,
   "metadata": {},
   "outputs": [
    {
     "output_type": "stream",
     "name": "stdout",
     "text": [
      "Floor(width=8, length=10, sides_views=(<View.OPEN_AREA: 1>, <View.OPEN_AREA: 1>, <View.LANDSCAPE: 2>, <View.NO_VIEW: 0>),\napartments=[\n\tRoom(room_type=RoomType.BEDROOM, min_area=20, width=None, length=None, adjacent_to=[], variables=None)\n\tRoom(room_type=RoomType.BATHROOM, min_area=10, width=None, length=None, adjacent_to=[], variables=None)\n])\n"
     ]
    }
   ],
   "source": [
    "from planner.io.parser import parse_floor\n",
    "floor = parse_floor(\"inputs/floor_input_1.json\")\n",
    "\n",
    "print(floor)"
   ]
  },
  {
   "cell_type": "code",
   "execution_count": null,
   "metadata": {},
   "outputs": [],
   "source": []
  }
 ]
}