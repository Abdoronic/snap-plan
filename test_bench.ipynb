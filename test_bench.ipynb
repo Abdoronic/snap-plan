{
 "metadata": {
  "language_info": {
   "codemirror_mode": {
    "name": "ipython",
    "version": 3
   },
   "file_extension": ".py",
   "mimetype": "text/x-python",
   "name": "python",
   "nbconvert_exporter": "python",
   "pygments_lexer": "ipython3",
   "version": "3.9.0-final"
  },
  "orig_nbformat": 2,
  "kernelspec": {
   "name": "python3",
   "display_name": "Python 3.9.0 64-bit",
   "metadata": {
    "interpreter": {
     "hash": "aee8b7b246df8f9039afb4144a1f6fd8d2ca17a180786b69acc140d282b71a49"
    }
   }
  }
 },
 "nbformat": 4,
 "nbformat_minor": 2,
 "cells": [
  {
   "cell_type": "code",
   "execution_count": 1,
   "metadata": {
    "tags": []
   },
   "outputs": [
    {
     "output_type": "stream",
     "name": "stdout",
     "text": [
      "Floor Score: 1\n"
     ]
    },
    {
     "output_type": "display_data",
     "data": {
      "application/vnd.plotly.v1+json": {
       "config": {
        "plotlyServerURL": "https://plot.ly"
       },
       "data": [],
       "layout": {
        "annotations": [
         {
          "font": {
           "color": "#000000"
          },
          "showarrow": false,
          "text": "<b>Bedr #(1, 1)</b>",
          "x": 9,
          "y": 8
         },
         {
          "font": {
           "color": "#000000"
          },
          "showarrow": false,
          "text": "<b>Bath #(1, 2)</b>",
          "x": 10.5,
          "y": 8
         },
         {
          "font": {
           "color": "#000000"
          },
          "showarrow": false,
          "text": "<b>Kitc #(1, 3)</b>",
          "x": 13.5,
          "y": 7.5
         },
         {
          "font": {
           "color": "#000000"
          },
          "showarrow": false,
          "text": "<b>Dini #(1, 4)</b>",
          "x": 11.5,
          "y": 7.5
         },
         {
          "font": {
           "color": "#000000"
          },
          "showarrow": false,
          "text": "<b>H #1</b>",
          "x": 10,
          "y": 0.5
         },
         {
          "font": {
           "color": "#ffffff"
          },
          "showarrow": false,
          "text": "<b>D #1</b>",
          "x": 11.5,
          "y": 14.5
         },
         {
          "font": {
           "color": "#000000"
          },
          "showarrow": false,
          "text": "<b>Bedr #(2, 1)</b>",
          "x": 4,
          "y": 5
         },
         {
          "font": {
           "color": "#000000"
          },
          "showarrow": false,
          "text": "<b>Sun_ #(2, 2)</b>",
          "x": 3,
          "y": 1.5
         },
         {
          "font": {
           "color": "#000000"
          },
          "showarrow": false,
          "text": "<b>Bath #(2, 3)</b>",
          "x": 3.5,
          "y": 8
         },
         {
          "font": {
           "color": "#000000"
          },
          "showarrow": false,
          "text": "<b>Kitc #(2, 4)</b>",
          "x": 4,
          "y": 11.5
         },
         {
          "font": {
           "color": "#000000"
          },
          "showarrow": false,
          "text": "<b>H #2</b>",
          "x": 0.5,
          "y": 0.5
         },
         {
          "font": {
           "color": "#000000"
          },
          "showarrow": false,
          "text": "<b>H #2</b>",
          "x": 0.5,
          "y": 7.5
         },
         {
          "font": {
           "color": "#ffffff"
          },
          "showarrow": false,
          "text": "<b>D #2</b>",
          "x": 6.5,
          "y": 8.5
         },
         {
          "font": {
           "color": "#000000"
          },
          "showarrow": false,
          "text": "<b>S</b>",
          "x": 6,
          "y": 2
         },
         {
          "font": {
           "color": "#000000"
          },
          "showarrow": false,
          "text": "<b>E</b>",
          "x": 6.5,
          "y": 7.5
         },
         {
          "font": {
           "color": "#000000"
          },
          "showarrow": false,
          "text": "<b>C</b>",
          "x": 3.5,
          "y": 14.5
         },
         {
          "font": {
           "color": "#000000"
          },
          "showarrow": false,
          "text": "<b>C</b>",
          "x": 7.5,
          "y": 7.5
         },
         {
          "font": {
           "color": "#000000"
          },
          "showarrow": false,
          "text": "<b>C</b>",
          "x": 6,
          "y": 0.5
         }
        ],
        "shapes": [
         {
          "fillcolor": "#CB48B7",
          "line": {
           "color": "Black",
           "width": 3
          },
          "opacity": 1,
          "type": "rect",
          "x0": 8,
          "x1": 10,
          "y0": 1,
          "y1": 15
         },
         {
          "fillcolor": "#CB48B7",
          "line": {
           "color": "Black",
           "width": 3
          },
          "opacity": 1,
          "type": "rect",
          "x0": 10,
          "x1": 11,
          "y0": 1,
          "y1": 15
         },
         {
          "fillcolor": "#CB48B7",
          "line": {
           "color": "Black",
           "width": 3
          },
          "opacity": 1,
          "type": "rect",
          "x0": 12,
          "x1": 15,
          "y0": 0,
          "y1": 15
         },
         {
          "fillcolor": "#CB48B7",
          "line": {
           "color": "Black",
           "width": 3
          },
          "opacity": 1,
          "type": "rect",
          "x0": 11,
          "x1": 12,
          "y0": 1,
          "y1": 14
         },
         {
          "fillcolor": "#CB48B7",
          "line": {
           "color": "Black",
           "width": 3
          },
          "opacity": 0.75,
          "type": "rect",
          "x0": 8,
          "x1": 12,
          "y0": 0,
          "y1": 1
         },
         {
          "fillcolor": "#1A1D1A",
          "line": {
           "color": "Black",
           "width": 3
          },
          "opacity": 1,
          "type": "rect",
          "x0": 11,
          "x1": 12,
          "y0": 14,
          "y1": 15
         },
         {
          "fillcolor": "#FFA9A3",
          "line": {
           "color": "Black",
           "width": 3
          },
          "opacity": 1,
          "type": "rect",
          "x0": 1,
          "x1": 7,
          "y0": 3,
          "y1": 7
         },
         {
          "fillcolor": "#FFA9A3",
          "line": {
           "color": "Black",
           "width": 3
          },
          "opacity": 1,
          "type": "rect",
          "x0": 1,
          "x1": 5,
          "y0": 0,
          "y1": 3
         },
         {
          "fillcolor": "#FFA9A3",
          "line": {
           "color": "Black",
           "width": 3
          },
          "opacity": 1,
          "type": "rect",
          "x0": 1,
          "x1": 6,
          "y0": 7,
          "y1": 9
         },
         {
          "fillcolor": "#FFA9A3",
          "line": {
           "color": "Black",
           "width": 3
          },
          "opacity": 1,
          "type": "rect",
          "x0": 1,
          "x1": 7,
          "y0": 9,
          "y1": 14
         },
         {
          "fillcolor": "#FFA9A3",
          "line": {
           "color": "Black",
           "width": 3
          },
          "opacity": 0.75,
          "type": "rect",
          "x0": 0,
          "x1": 1,
          "y0": 0,
          "y1": 1
         },
         {
          "fillcolor": "#FFA9A3",
          "line": {
           "color": "Black",
           "width": 3
          },
          "opacity": 0.75,
          "type": "rect",
          "x0": 0,
          "x1": 1,
          "y0": 1,
          "y1": 14
         },
         {
          "fillcolor": "#1A1D1A",
          "line": {
           "color": "Black",
           "width": 3
          },
          "opacity": 1,
          "type": "rect",
          "x0": 6,
          "x1": 7,
          "y0": 8,
          "y1": 9
         },
         {
          "fillcolor": "#A5A5A5",
          "line": {
           "color": "Black",
           "width": 3
          },
          "opacity": 1,
          "type": "rect",
          "x0": 5,
          "x1": 7,
          "y0": 1,
          "y1": 3
         },
         {
          "fillcolor": "#A5A5A5",
          "line": {
           "color": "Black",
           "width": 3
          },
          "opacity": 1,
          "type": "rect",
          "x0": 6,
          "x1": 7,
          "y0": 7,
          "y1": 8
         },
         {
          "fillcolor": "#F2F2F2",
          "line": {
           "color": "Black",
           "width": 3
          },
          "opacity": 1,
          "type": "rect",
          "x0": 0,
          "x1": 7,
          "y0": 14,
          "y1": 15
         },
         {
          "fillcolor": "#F2F2F2",
          "line": {
           "color": "Black",
           "width": 3
          },
          "opacity": 1,
          "type": "rect",
          "x0": 7,
          "x1": 8,
          "y0": 0,
          "y1": 15
         },
         {
          "fillcolor": "#F2F2F2",
          "line": {
           "color": "Black",
           "width": 3
          },
          "opacity": 1,
          "type": "rect",
          "x0": 5,
          "x1": 7,
          "y0": 0,
          "y1": 1
         }
        ],
        "template": {
         "data": {
          "bar": [
           {
            "error_x": {
             "color": "#2a3f5f"
            },
            "error_y": {
             "color": "#2a3f5f"
            },
            "marker": {
             "line": {
              "color": "#E5ECF6",
              "width": 0.5
             }
            },
            "type": "bar"
           }
          ],
          "barpolar": [
           {
            "marker": {
             "line": {
              "color": "#E5ECF6",
              "width": 0.5
             }
            },
            "type": "barpolar"
           }
          ],
          "carpet": [
           {
            "aaxis": {
             "endlinecolor": "#2a3f5f",
             "gridcolor": "white",
             "linecolor": "white",
             "minorgridcolor": "white",
             "startlinecolor": "#2a3f5f"
            },
            "baxis": {
             "endlinecolor": "#2a3f5f",
             "gridcolor": "white",
             "linecolor": "white",
             "minorgridcolor": "white",
             "startlinecolor": "#2a3f5f"
            },
            "type": "carpet"
           }
          ],
          "choropleth": [
           {
            "colorbar": {
             "outlinewidth": 0,
             "ticks": ""
            },
            "type": "choropleth"
           }
          ],
          "contour": [
           {
            "colorbar": {
             "outlinewidth": 0,
             "ticks": ""
            },
            "colorscale": [
             [
              0,
              "#0d0887"
             ],
             [
              0.1111111111111111,
              "#46039f"
             ],
             [
              0.2222222222222222,
              "#7201a8"
             ],
             [
              0.3333333333333333,
              "#9c179e"
             ],
             [
              0.4444444444444444,
              "#bd3786"
             ],
             [
              0.5555555555555556,
              "#d8576b"
             ],
             [
              0.6666666666666666,
              "#ed7953"
             ],
             [
              0.7777777777777778,
              "#fb9f3a"
             ],
             [
              0.8888888888888888,
              "#fdca26"
             ],
             [
              1,
              "#f0f921"
             ]
            ],
            "type": "contour"
           }
          ],
          "contourcarpet": [
           {
            "colorbar": {
             "outlinewidth": 0,
             "ticks": ""
            },
            "type": "contourcarpet"
           }
          ],
          "heatmap": [
           {
            "colorbar": {
             "outlinewidth": 0,
             "ticks": ""
            },
            "colorscale": [
             [
              0,
              "#0d0887"
             ],
             [
              0.1111111111111111,
              "#46039f"
             ],
             [
              0.2222222222222222,
              "#7201a8"
             ],
             [
              0.3333333333333333,
              "#9c179e"
             ],
             [
              0.4444444444444444,
              "#bd3786"
             ],
             [
              0.5555555555555556,
              "#d8576b"
             ],
             [
              0.6666666666666666,
              "#ed7953"
             ],
             [
              0.7777777777777778,
              "#fb9f3a"
             ],
             [
              0.8888888888888888,
              "#fdca26"
             ],
             [
              1,
              "#f0f921"
             ]
            ],
            "type": "heatmap"
           }
          ],
          "heatmapgl": [
           {
            "colorbar": {
             "outlinewidth": 0,
             "ticks": ""
            },
            "colorscale": [
             [
              0,
              "#0d0887"
             ],
             [
              0.1111111111111111,
              "#46039f"
             ],
             [
              0.2222222222222222,
              "#7201a8"
             ],
             [
              0.3333333333333333,
              "#9c179e"
             ],
             [
              0.4444444444444444,
              "#bd3786"
             ],
             [
              0.5555555555555556,
              "#d8576b"
             ],
             [
              0.6666666666666666,
              "#ed7953"
             ],
             [
              0.7777777777777778,
              "#fb9f3a"
             ],
             [
              0.8888888888888888,
              "#fdca26"
             ],
             [
              1,
              "#f0f921"
             ]
            ],
            "type": "heatmapgl"
           }
          ],
          "histogram": [
           {
            "marker": {
             "colorbar": {
              "outlinewidth": 0,
              "ticks": ""
             }
            },
            "type": "histogram"
           }
          ],
          "histogram2d": [
           {
            "colorbar": {
             "outlinewidth": 0,
             "ticks": ""
            },
            "colorscale": [
             [
              0,
              "#0d0887"
             ],
             [
              0.1111111111111111,
              "#46039f"
             ],
             [
              0.2222222222222222,
              "#7201a8"
             ],
             [
              0.3333333333333333,
              "#9c179e"
             ],
             [
              0.4444444444444444,
              "#bd3786"
             ],
             [
              0.5555555555555556,
              "#d8576b"
             ],
             [
              0.6666666666666666,
              "#ed7953"
             ],
             [
              0.7777777777777778,
              "#fb9f3a"
             ],
             [
              0.8888888888888888,
              "#fdca26"
             ],
             [
              1,
              "#f0f921"
             ]
            ],
            "type": "histogram2d"
           }
          ],
          "histogram2dcontour": [
           {
            "colorbar": {
             "outlinewidth": 0,
             "ticks": ""
            },
            "colorscale": [
             [
              0,
              "#0d0887"
             ],
             [
              0.1111111111111111,
              "#46039f"
             ],
             [
              0.2222222222222222,
              "#7201a8"
             ],
             [
              0.3333333333333333,
              "#9c179e"
             ],
             [
              0.4444444444444444,
              "#bd3786"
             ],
             [
              0.5555555555555556,
              "#d8576b"
             ],
             [
              0.6666666666666666,
              "#ed7953"
             ],
             [
              0.7777777777777778,
              "#fb9f3a"
             ],
             [
              0.8888888888888888,
              "#fdca26"
             ],
             [
              1,
              "#f0f921"
             ]
            ],
            "type": "histogram2dcontour"
           }
          ],
          "mesh3d": [
           {
            "colorbar": {
             "outlinewidth": 0,
             "ticks": ""
            },
            "type": "mesh3d"
           }
          ],
          "parcoords": [
           {
            "line": {
             "colorbar": {
              "outlinewidth": 0,
              "ticks": ""
             }
            },
            "type": "parcoords"
           }
          ],
          "pie": [
           {
            "automargin": true,
            "type": "pie"
           }
          ],
          "scatter": [
           {
            "marker": {
             "colorbar": {
              "outlinewidth": 0,
              "ticks": ""
             }
            },
            "type": "scatter"
           }
          ],
          "scatter3d": [
           {
            "line": {
             "colorbar": {
              "outlinewidth": 0,
              "ticks": ""
             }
            },
            "marker": {
             "colorbar": {
              "outlinewidth": 0,
              "ticks": ""
             }
            },
            "type": "scatter3d"
           }
          ],
          "scattercarpet": [
           {
            "marker": {
             "colorbar": {
              "outlinewidth": 0,
              "ticks": ""
             }
            },
            "type": "scattercarpet"
           }
          ],
          "scattergeo": [
           {
            "marker": {
             "colorbar": {
              "outlinewidth": 0,
              "ticks": ""
             }
            },
            "type": "scattergeo"
           }
          ],
          "scattergl": [
           {
            "marker": {
             "colorbar": {
              "outlinewidth": 0,
              "ticks": ""
             }
            },
            "type": "scattergl"
           }
          ],
          "scattermapbox": [
           {
            "marker": {
             "colorbar": {
              "outlinewidth": 0,
              "ticks": ""
             }
            },
            "type": "scattermapbox"
           }
          ],
          "scatterpolar": [
           {
            "marker": {
             "colorbar": {
              "outlinewidth": 0,
              "ticks": ""
             }
            },
            "type": "scatterpolar"
           }
          ],
          "scatterpolargl": [
           {
            "marker": {
             "colorbar": {
              "outlinewidth": 0,
              "ticks": ""
             }
            },
            "type": "scatterpolargl"
           }
          ],
          "scatterternary": [
           {
            "marker": {
             "colorbar": {
              "outlinewidth": 0,
              "ticks": ""
             }
            },
            "type": "scatterternary"
           }
          ],
          "surface": [
           {
            "colorbar": {
             "outlinewidth": 0,
             "ticks": ""
            },
            "colorscale": [
             [
              0,
              "#0d0887"
             ],
             [
              0.1111111111111111,
              "#46039f"
             ],
             [
              0.2222222222222222,
              "#7201a8"
             ],
             [
              0.3333333333333333,
              "#9c179e"
             ],
             [
              0.4444444444444444,
              "#bd3786"
             ],
             [
              0.5555555555555556,
              "#d8576b"
             ],
             [
              0.6666666666666666,
              "#ed7953"
             ],
             [
              0.7777777777777778,
              "#fb9f3a"
             ],
             [
              0.8888888888888888,
              "#fdca26"
             ],
             [
              1,
              "#f0f921"
             ]
            ],
            "type": "surface"
           }
          ],
          "table": [
           {
            "cells": {
             "fill": {
              "color": "#EBF0F8"
             },
             "line": {
              "color": "white"
             }
            },
            "header": {
             "fill": {
              "color": "#C8D4E3"
             },
             "line": {
              "color": "white"
             }
            },
            "type": "table"
           }
          ]
         },
         "layout": {
          "annotationdefaults": {
           "arrowcolor": "#2a3f5f",
           "arrowhead": 0,
           "arrowwidth": 1
          },
          "autotypenumbers": "strict",
          "coloraxis": {
           "colorbar": {
            "outlinewidth": 0,
            "ticks": ""
           }
          },
          "colorscale": {
           "diverging": [
            [
             0,
             "#8e0152"
            ],
            [
             0.1,
             "#c51b7d"
            ],
            [
             0.2,
             "#de77ae"
            ],
            [
             0.3,
             "#f1b6da"
            ],
            [
             0.4,
             "#fde0ef"
            ],
            [
             0.5,
             "#f7f7f7"
            ],
            [
             0.6,
             "#e6f5d0"
            ],
            [
             0.7,
             "#b8e186"
            ],
            [
             0.8,
             "#7fbc41"
            ],
            [
             0.9,
             "#4d9221"
            ],
            [
             1,
             "#276419"
            ]
           ],
           "sequential": [
            [
             0,
             "#0d0887"
            ],
            [
             0.1111111111111111,
             "#46039f"
            ],
            [
             0.2222222222222222,
             "#7201a8"
            ],
            [
             0.3333333333333333,
             "#9c179e"
            ],
            [
             0.4444444444444444,
             "#bd3786"
            ],
            [
             0.5555555555555556,
             "#d8576b"
            ],
            [
             0.6666666666666666,
             "#ed7953"
            ],
            [
             0.7777777777777778,
             "#fb9f3a"
            ],
            [
             0.8888888888888888,
             "#fdca26"
            ],
            [
             1,
             "#f0f921"
            ]
           ],
           "sequentialminus": [
            [
             0,
             "#0d0887"
            ],
            [
             0.1111111111111111,
             "#46039f"
            ],
            [
             0.2222222222222222,
             "#7201a8"
            ],
            [
             0.3333333333333333,
             "#9c179e"
            ],
            [
             0.4444444444444444,
             "#bd3786"
            ],
            [
             0.5555555555555556,
             "#d8576b"
            ],
            [
             0.6666666666666666,
             "#ed7953"
            ],
            [
             0.7777777777777778,
             "#fb9f3a"
            ],
            [
             0.8888888888888888,
             "#fdca26"
            ],
            [
             1,
             "#f0f921"
            ]
           ]
          },
          "colorway": [
           "#636efa",
           "#EF553B",
           "#00cc96",
           "#ab63fa",
           "#FFA15A",
           "#19d3f3",
           "#FF6692",
           "#B6E880",
           "#FF97FF",
           "#FECB52"
          ],
          "font": {
           "color": "#2a3f5f"
          },
          "geo": {
           "bgcolor": "white",
           "lakecolor": "white",
           "landcolor": "#E5ECF6",
           "showlakes": true,
           "showland": true,
           "subunitcolor": "white"
          },
          "hoverlabel": {
           "align": "left"
          },
          "hovermode": "closest",
          "mapbox": {
           "style": "light"
          },
          "paper_bgcolor": "white",
          "plot_bgcolor": "#E5ECF6",
          "polar": {
           "angularaxis": {
            "gridcolor": "white",
            "linecolor": "white",
            "ticks": ""
           },
           "bgcolor": "#E5ECF6",
           "radialaxis": {
            "gridcolor": "white",
            "linecolor": "white",
            "ticks": ""
           }
          },
          "scene": {
           "xaxis": {
            "backgroundcolor": "#E5ECF6",
            "gridcolor": "white",
            "gridwidth": 2,
            "linecolor": "white",
            "showbackground": true,
            "ticks": "",
            "zerolinecolor": "white"
           },
           "yaxis": {
            "backgroundcolor": "#E5ECF6",
            "gridcolor": "white",
            "gridwidth": 2,
            "linecolor": "white",
            "showbackground": true,
            "ticks": "",
            "zerolinecolor": "white"
           },
           "zaxis": {
            "backgroundcolor": "#E5ECF6",
            "gridcolor": "white",
            "gridwidth": 2,
            "linecolor": "white",
            "showbackground": true,
            "ticks": "",
            "zerolinecolor": "white"
           }
          },
          "shapedefaults": {
           "line": {
            "color": "#2a3f5f"
           }
          },
          "ternary": {
           "aaxis": {
            "gridcolor": "white",
            "linecolor": "white",
            "ticks": ""
           },
           "baxis": {
            "gridcolor": "white",
            "linecolor": "white",
            "ticks": ""
           },
           "bgcolor": "#E5ECF6",
           "caxis": {
            "gridcolor": "white",
            "linecolor": "white",
            "ticks": ""
           }
          },
          "title": {
           "x": 0.05
          },
          "xaxis": {
           "automargin": true,
           "gridcolor": "white",
           "linecolor": "white",
           "ticks": "",
           "title": {
            "standoff": 15
           },
           "zerolinecolor": "white",
           "zerolinewidth": 2
          },
          "yaxis": {
           "automargin": true,
           "gridcolor": "white",
           "linecolor": "white",
           "ticks": "",
           "title": {
            "standoff": 15
           },
           "zerolinecolor": "white",
           "zerolinewidth": 2
          }
         }
        },
        "xaxis": {
         "dtick": 1,
         "range": [
          0,
          15
         ],
         "tick0": 0,
         "tickmode": "linear"
        },
        "yaxis": {
         "dtick": 1,
         "range": [
          0,
          15
         ],
         "tick0": 0,
         "tickmode": "linear"
        }
       }
      }
     },
     "metadata": {}
    },
    {
     "output_type": "stream",
     "name": "stdout",
     "text": [
      "Done in 47.106236934661865 s\n"
     ]
    }
   ],
   "source": [
    "from ortools.sat.python import cp_model\n",
    "\n",
    "from planner.io.parser import parse_floor\n",
    "from planner.io.visualizer import visualize_floor\n",
    "from planner.solver import plan_floor\n",
    "\n",
    "import time\n",
    "\n",
    "floor = parse_floor(\"inputs/floor_input_3.json\")\n",
    "\n",
    "start_time = time.time()\n",
    "status, solver = plan_floor(floor)\n",
    "if status == cp_model.FEASIBLE or status == cp_model.OPTIMAL:\n",
    "    visualize_floor(floor, solver)\n",
    "else:\n",
    "    print(solver.StatusName())\n",
    "\n",
    "\n",
    "print('Done in', time.time() - start_time, 's')\n"
   ]
  },
  {
   "cell_type": "code",
   "execution_count": null,
   "metadata": {},
   "outputs": [],
   "source": []
  }
 ]
}