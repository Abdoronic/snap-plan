{
 "metadata": {
  "language_info": {
   "codemirror_mode": {
    "name": "ipython",
    "version": 3
   },
   "file_extension": ".py",
   "mimetype": "text/x-python",
   "name": "python",
   "nbconvert_exporter": "python",
   "pygments_lexer": "ipython3",
   "version": "3.9.0-final"
  },
  "orig_nbformat": 2,
  "kernelspec": {
   "name": "python3",
   "display_name": "Python 3.9.0 64-bit",
   "metadata": {
    "interpreter": {
     "hash": "aee8b7b246df8f9039afb4144a1f6fd8d2ca17a180786b69acc140d282b71a49"
    }
   }
  }
 },
 "nbformat": 4,
 "nbformat_minor": 2,
 "cells": [
  {
   "cell_type": "code",
   "execution_count": 6,
   "metadata": {},
   "outputs": [
    {
     "output_type": "stream",
     "name": "stdout",
     "text": [
      "OPTIMAL\nRoom #1: nw(0, 1), ne(1, 1) sw(0, 0), se(1, 0)\nRoom #2: nw(0, 2), ne(1, 2) sw(0, 1), se(1, 1)\n"
     ]
    }
   ],
   "source": [
    "from planner.io.parser import parse_floor\n",
    "from planner.io.visualizer import visualize_floor\n",
    "from planner.solver import plan_floor\n",
    "\n",
    "floor = parse_floor(\"inputs/floor_input_1.json\")\n",
    "\n",
    "status, solver = plan_floor(floor)\n",
    "\n",
    "if status == 4:\n",
    "    visualize_floor(floor, solver)\n"
   ]
  },
  {
   "cell_type": "code",
   "execution_count": null,
   "metadata": {},
   "outputs": [],
   "source": []
  }
 ]
}