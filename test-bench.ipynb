{
 "metadata": {
  "language_info": {
   "codemirror_mode": {
    "name": "ipython",
    "version": 3
   },
   "file_extension": ".py",
   "mimetype": "text/x-python",
   "name": "python",
   "nbconvert_exporter": "python",
   "pygments_lexer": "ipython3",
   "version": "3.9.0-final"
  },
  "orig_nbformat": 2,
  "kernelspec": {
   "name": "python3",
   "display_name": "Python 3.9.0 64-bit",
   "metadata": {
    "interpreter": {
     "hash": "aee8b7b246df8f9039afb4144a1f6fd8d2ca17a180786b69acc140d282b71a49"
    }
   }
  }
 },
 "nbformat": 4,
 "nbformat_minor": 2,
 "cells": [
  {
   "cell_type": "code",
   "execution_count": 41,
   "metadata": {},
   "outputs": [
    {
     "output_type": "stream",
     "name": "stdout",
     "text": [
      "Valid instance\n"
     ]
    }
   ],
   "source": [
    "import json\n",
    "from jsonschema import validate\n",
    "\n",
    "json_schema = open('floor-schema.json')\n",
    "schema = json.load(json_schema)\n",
    "json_schema.close()\n",
    "\n",
    "instance = {\n",
    "  \"dimensions\": {\n",
    "    \"width\": 8,\n",
    "    \"length\": 10\n",
    "  },\n",
    "  \"viewQuality\": {\n",
    "    \"north\": \"Open Area\",\n",
    "    \"west\": \"No View\",\n",
    "    \"south\": \"Open Area\",\n",
    "    \"east\": \"Landscape\"\n",
    "  },\n",
    "  \"apartments\": [\n",
    "    {\n",
    "      \"count\": 2,\n",
    "      \"rooms\": [\n",
    "        {\n",
    "          \"type\": \"Bedroom\",\n",
    "          \"count\": 1,\n",
    "          \"minArea\": 20\n",
    "        },\n",
    "        {\n",
    "          \"type\": \"Bathroom\",\n",
    "          \"count\": 1,\n",
    "          \"minArea\": 10\n",
    "        }\n",
    "      ]\n",
    "    }\n",
    "  ]\n",
    "}\n",
    "\n",
    "try:\n",
    "    validate(instance=instance, schema=schema)\n",
    "    print(\"Valid instance\")\n",
    "except:\n",
    "    print(\"Non valid instance\")"
   ]
  },
  {
   "cell_type": "code",
   "execution_count": null,
   "metadata": {},
   "outputs": [],
   "source": []
  }
 ]
}